{
  "nbformat": 4,
  "nbformat_minor": 0,
  "metadata": {
    "colab": {
      "name": "Python101.ipynb",
      "provenance": [],
      "include_colab_link": true
    },
    "kernelspec": {
      "name": "python3",
      "display_name": "Python 3"
    },
    "language_info": {
      "name": "python"
    }
  },
  "cells": [
    {
      "cell_type": "markdown",
      "metadata": {
        "id": "view-in-github",
        "colab_type": "text"
      },
      "source": [
        "<a href=\"https://colab.research.google.com/github/hellen2021/Lux-Dev-Python-functions/blob/main/Python101.ipynb\" target=\"_parent\"><img src=\"https://colab.research.google.com/assets/colab-badge.svg\" alt=\"Open In Colab\"/></a>"
      ]
    },
    {
      "cell_type": "markdown",
      "source": [
        "### Assignment 2\n",
        "#### a) Create a python function to check whether a number is prime or not"
      ],
      "metadata": {
        "id": "tClwnqiE2WvA"
      }
    },
    {
      "cell_type": "code",
      "source": [
        "# function for Prime checking conditions  \n",
        "def prime(num):  \n",
        "    # Checking that given number is more than 1  \n",
        "    if num > 1:  \n",
        "        # Iterating over the given number with for loop  \n",
        "        for j in range(2, int(num/2) + 1):  \n",
        "            # If the given number is divisible or not  \n",
        "            if (num % j) == 0:  \n",
        "                print(num, \"is not a prime number\")  \n",
        "                break  \n",
        "        # Else it is a prime number  \n",
        "        else:  \n",
        "            print(num, \"is a prime number\")  \n",
        "    # If the given number is 1  \n",
        "    else:  \n",
        "        print(num, \"is not a prime number\")  \n",
        "# Taking an input number from the user (the number should bea an integer)\n",
        "num = int(input(\"Enter an input number:\"))  \n",
        "# Printing result  \n",
        "prime(num)  "
      ],
      "metadata": {
        "colab": {
          "base_uri": "https://localhost:8080/"
        },
        "id": "OlhhIjncwwm-",
        "outputId": "5f9f0645-54b7-4d44-d19c-e1dbe85b6533"
      },
      "execution_count": null,
      "outputs": [
        {
          "output_type": "stream",
          "name": "stdout",
          "text": [
            "Enter an input number:5\n",
            "5 is a prime number\n"
          ]
        }
      ]
    },
    {
      "cell_type": "markdown",
      "source": [
        "#### b) Function to check whether numbers belong to the fibonacci sequence or not"
      ],
      "metadata": {
        "id": "_lJngIU12qwR"
      }
    },
    {
      "cell_type": "code",
      "source": [
        "# fibonacci series is a sequence,in which each number is the sum of the two preceding ones.\n",
        "def fib(n):\n",
        "    a = 0\n",
        "    b = 1\n",
        "    if n == 1:\n",
        "        print(a)\n",
        "    else:\n",
        "        print(a)\n",
        "        print(b)\n",
        "        for i in range(2,n):\n",
        "            c = a + b\n",
        "            a = b\n",
        "            b = c\n",
        "            print(c)\n",
        "fib(10)"
      ],
      "metadata": {
        "colab": {
          "base_uri": "https://localhost:8080/"
        },
        "id": "XH9dnNAJ1mXe",
        "outputId": "b3a5a9cf-d357-40fe-bf0e-343a147fba5b"
      },
      "execution_count": null,
      "outputs": [
        {
          "output_type": "stream",
          "name": "stdout",
          "text": [
            "0\n",
            "1\n",
            "1\n",
            "2\n",
            "3\n",
            "5\n",
            "8\n",
            "13\n",
            "21\n",
            "34\n"
          ]
        }
      ]
    },
    {
      "cell_type": "code",
      "source": [
        ""
      ],
      "metadata": {
        "id": "fmbpiWub3CM_"
      },
      "execution_count": null,
      "outputs": []
    }
  ]
}